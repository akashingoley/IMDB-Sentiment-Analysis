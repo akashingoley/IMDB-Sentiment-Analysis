{
 "cells": [
  {
   "cell_type": "code",
   "execution_count": 1,
   "id": "30ee9469",
   "metadata": {
    "_cell_guid": "b1076dfc-b9ad-4769-8c92-a6c4dae69d19",
    "_uuid": "8f2839f25d086af736a60e9eeb907d3b93b6e0e5",
    "execution": {
     "iopub.execute_input": "2021-10-06T11:18:18.395283Z",
     "iopub.status.busy": "2021-10-06T11:18:18.394661Z",
     "iopub.status.idle": "2021-10-06T11:18:18.406803Z",
     "shell.execute_reply": "2021-10-06T11:18:18.407292Z",
     "shell.execute_reply.started": "2021-10-06T11:01:05.339812Z"
    },
    "papermill": {
     "duration": 0.108051,
     "end_time": "2021-10-06T11:18:18.407535",
     "exception": false,
     "start_time": "2021-10-06T11:18:18.299484",
     "status": "completed"
    },
    "tags": []
   },
   "outputs": [
    {
     "name": "stdout",
     "output_type": "stream",
     "text": [
      "/kaggle/input/imdb-dataset-of-50k-movie-reviews/IMDB Dataset.csv\n"
     ]
    }
   ],
   "source": [
    "# This Python 3 environment comes with many helpful analytics libraries installed\n",
    "# It is defined by the kaggle/python Docker image: https://github.com/kaggle/docker-python\n",
    "# For example, here's several helpful packages to load\n",
    "\n",
    "import numpy as np # linear algebra\n",
    "import pandas as pd # data processing, CSV file I/O (e.g. pd.read_csv)\n",
    "\n",
    "# Input data files are available in the read-only \"../input/\" directory\n",
    "# For example, running this (by clicking run or pressing Shift+Enter) will list all files under the input directory\n",
    "\n",
    "import os\n",
    "for dirname, _, filenames in os.walk('/kaggle/input'):\n",
    "    for filename in filenames:\n",
    "        print(os.path.join(dirname, filename))\n",
    "\n",
    "# You can write up to 20GB to the current directory (/kaggle/working/) that gets preserved as output when you create a version using \"Save & Run All\" \n",
    "# You can also write temporary files to /kaggle/temp/, but they won't be saved outside of the current session"
   ]
  },
  {
   "cell_type": "code",
   "execution_count": 2,
   "id": "30536d91",
   "metadata": {
    "execution": {
     "iopub.execute_input": "2021-10-06T11:18:18.447884Z",
     "iopub.status.busy": "2021-10-06T11:18:18.447261Z",
     "iopub.status.idle": "2021-10-06T11:18:23.719613Z",
     "shell.execute_reply": "2021-10-06T11:18:23.719067Z",
     "shell.execute_reply.started": "2021-10-06T11:01:05.446650Z"
    },
    "papermill": {
     "duration": 5.293483,
     "end_time": "2021-10-06T11:18:23.719737",
     "exception": false,
     "start_time": "2021-10-06T11:18:18.426254",
     "status": "completed"
    },
    "tags": []
   },
   "outputs": [
    {
     "name": "stderr",
     "output_type": "stream",
     "text": [
      "2021-10-06 11:18:18.907327: I tensorflow/stream_executor/platform/default/dso_loader.cc:49] Successfully opened dynamic library libcudart.so.11.0\n"
     ]
    }
   ],
   "source": [
    "from tensorflow.keras.models import Sequential\n",
    "from tensorflow.keras.layers import Dense\n",
    "from tensorflow.keras.layers import Dropout\n",
    "from sklearn.model_selection import train_test_split\n",
    "from nltk.corpus import stopwords\n",
    "from nltk.tokenize import RegexpTokenizer\n",
    "from nltk.stem.porter import PorterStemmer\n",
    "from sklearn.naive_bayes import MultinomialNB, BernoulliNB, GaussianNB\n",
    "from sklearn.pipeline import Pipeline\n",
    "from sklearn.feature_extraction.text import TfidfVectorizer\n",
    "from sklearn.feature_extraction.text import CountVectorizer\n",
    "import nltk\n",
    "import matplotlib.pyplot as plt \n",
    "from sklearn.preprocessing import LabelEncoder"
   ]
  },
  {
   "cell_type": "markdown",
   "id": "b5255e38",
   "metadata": {
    "papermill": {
     "duration": 0.016599,
     "end_time": "2021-10-06T11:18:23.753279",
     "exception": false,
     "start_time": "2021-10-06T11:18:23.736680",
     "status": "completed"
    },
    "tags": []
   },
   "source": [
    "# Importing Data and doing Basic Analysis"
   ]
  },
  {
   "cell_type": "code",
   "execution_count": 3,
   "id": "94da303e",
   "metadata": {
    "execution": {
     "iopub.execute_input": "2021-10-06T11:18:23.790366Z",
     "iopub.status.busy": "2021-10-06T11:18:23.789835Z",
     "iopub.status.idle": "2021-10-06T11:18:25.264574Z",
     "shell.execute_reply": "2021-10-06T11:18:25.264088Z",
     "shell.execute_reply.started": "2021-10-06T11:01:10.908361Z"
    },
    "papermill": {
     "duration": 1.494985,
     "end_time": "2021-10-06T11:18:25.264748",
     "exception": false,
     "start_time": "2021-10-06T11:18:23.769763",
     "status": "completed"
    },
    "tags": []
   },
   "outputs": [
    {
     "data": {
      "text/html": [
       "<div>\n",
       "<style scoped>\n",
       "    .dataframe tbody tr th:only-of-type {\n",
       "        vertical-align: middle;\n",
       "    }\n",
       "\n",
       "    .dataframe tbody tr th {\n",
       "        vertical-align: top;\n",
       "    }\n",
       "\n",
       "    .dataframe thead th {\n",
       "        text-align: right;\n",
       "    }\n",
       "</style>\n",
       "<table border=\"1\" class=\"dataframe\">\n",
       "  <thead>\n",
       "    <tr style=\"text-align: right;\">\n",
       "      <th></th>\n",
       "      <th>review</th>\n",
       "      <th>sentiment</th>\n",
       "    </tr>\n",
       "  </thead>\n",
       "  <tbody>\n",
       "    <tr>\n",
       "      <th>0</th>\n",
       "      <td>One of the other reviewers has mentioned that ...</td>\n",
       "      <td>positive</td>\n",
       "    </tr>\n",
       "    <tr>\n",
       "      <th>1</th>\n",
       "      <td>A wonderful little production. &lt;br /&gt;&lt;br /&gt;The...</td>\n",
       "      <td>positive</td>\n",
       "    </tr>\n",
       "    <tr>\n",
       "      <th>2</th>\n",
       "      <td>I thought this was a wonderful way to spend ti...</td>\n",
       "      <td>positive</td>\n",
       "    </tr>\n",
       "    <tr>\n",
       "      <th>3</th>\n",
       "      <td>Basically there's a family where a little boy ...</td>\n",
       "      <td>negative</td>\n",
       "    </tr>\n",
       "    <tr>\n",
       "      <th>4</th>\n",
       "      <td>Petter Mattei's \"Love in the Time of Money\" is...</td>\n",
       "      <td>positive</td>\n",
       "    </tr>\n",
       "  </tbody>\n",
       "</table>\n",
       "</div>"
      ],
      "text/plain": [
       "                                              review sentiment\n",
       "0  One of the other reviewers has mentioned that ...  positive\n",
       "1  A wonderful little production. <br /><br />The...  positive\n",
       "2  I thought this was a wonderful way to spend ti...  positive\n",
       "3  Basically there's a family where a little boy ...  negative\n",
       "4  Petter Mattei's \"Love in the Time of Money\" is...  positive"
      ]
     },
     "execution_count": 3,
     "metadata": {},
     "output_type": "execute_result"
    }
   ],
   "source": [
    "dataset = pd.read_csv(\"/kaggle/input/imdb-dataset-of-50k-movie-reviews/IMDB Dataset.csv\")\n",
    "dataset.head()"
   ]
  },
  {
   "cell_type": "code",
   "execution_count": 4,
   "id": "2c662b45",
   "metadata": {
    "execution": {
     "iopub.execute_input": "2021-10-06T11:18:25.303832Z",
     "iopub.status.busy": "2021-10-06T11:18:25.303134Z",
     "iopub.status.idle": "2021-10-06T11:18:25.347398Z",
     "shell.execute_reply": "2021-10-06T11:18:25.347761Z",
     "shell.execute_reply.started": "2021-10-06T11:01:12.380032Z"
    },
    "papermill": {
     "duration": 0.065769,
     "end_time": "2021-10-06T11:18:25.347888",
     "exception": false,
     "start_time": "2021-10-06T11:18:25.282119",
     "status": "completed"
    },
    "tags": []
   },
   "outputs": [
    {
     "data": {
      "text/plain": [
       "(array(['negative', 'positive'], dtype=object), array([25000, 25000]))"
      ]
     },
     "execution_count": 4,
     "metadata": {},
     "output_type": "execute_result"
    }
   ],
   "source": [
    "# Checking our target feature\n",
    "np.unique(dataset.sentiment, return_counts=True)"
   ]
  },
  {
   "cell_type": "code",
   "execution_count": 5,
   "id": "7a27f40a",
   "metadata": {
    "execution": {
     "iopub.execute_input": "2021-10-06T11:18:25.389867Z",
     "iopub.status.busy": "2021-10-06T11:18:25.389161Z",
     "iopub.status.idle": "2021-10-06T11:18:25.557775Z",
     "shell.execute_reply": "2021-10-06T11:18:25.558158Z",
     "shell.execute_reply.started": "2021-10-06T11:01:12.431104Z"
    },
    "papermill": {
     "duration": 0.192237,
     "end_time": "2021-10-06T11:18:25.558298",
     "exception": false,
     "start_time": "2021-10-06T11:18:25.366061",
     "status": "completed"
    },
    "tags": []
   },
   "outputs": [
    {
     "data": {
      "image/png": "[encoded data removed]",
      "text/plain": [
       "<Figure size 432x288 with 1 Axes>"
      ]
     },
     "metadata": {
      "needs_background": "light"
     },
     "output_type": "display_data"
    }
   ],
   "source": [
    "# Visualizing data distribution\n",
    "target_count = dataset.groupby('sentiment').size().reset_index(name='counts')\n",
    "plt.bar(target_count.sentiment, target_count.counts)\n",
    "plt.xticks([0,1], labels=[\"Negative\", \"Positive\"])\n",
    "plt.title(\"Target Distribution\")\n",
    "plt.show()"
   ]
  },
  {
   "cell_type": "markdown",
   "id": "01741512",
   "metadata": {
    "execution": {
     "iopub.execute_input": "2021-10-06T11:01:12.625472Z",
     "iopub.status.busy": "2021-10-06T11:01:12.625156Z",
     "iopub.status.idle": "2021-10-06T11:01:12.629173Z",
     "shell.execute_reply": "2021-10-06T11:01:12.628272Z",
     "shell.execute_reply.started": "2021-10-06T11:01:12.625437Z"
    },
    "papermill": {
     "duration": 0.018294,
     "end_time": "2021-10-06T11:18:25.595298",
     "exception": false,
     "start_time": "2021-10-06T11:18:25.577004",
     "status": "completed"
    },
    "tags": []
   },
   "source": [
    "### We have a Balanced Dataset"
   ]
  },
  {
   "cell_type": "markdown",
   "id": "fc9347ad",
   "metadata": {
    "papermill": {
     "duration": 0.017529,
     "end_time": "2021-10-06T11:18:25.630368",
     "exception": false,
     "start_time": "2021-10-06T11:18:25.612839",
     "status": "completed"
    },
    "tags": []
   },
   "source": [
    "# Data Preprocessing"
   ]
  },
  {
   "cell_type": "code",
   "execution_count": 6,
   "id": "3ff40d22",
   "metadata": {
    "execution": {
     "iopub.execute_input": "2021-10-06T11:18:25.671337Z",
     "iopub.status.busy": "2021-10-06T11:18:25.670664Z",
     "iopub.status.idle": "2021-10-06T11:18:25.673657Z",
     "shell.execute_reply": "2021-10-06T11:18:25.674020Z",
     "shell.execute_reply.started": "2021-10-06T11:01:12.631317Z"
    },
    "papermill": {
     "duration": 0.026251,
     "end_time": "2021-10-06T11:18:25.674156",
     "exception": false,
     "start_time": "2021-10-06T11:18:25.647905",
     "status": "completed"
    },
    "tags": []
   },
   "outputs": [],
   "source": [
    "def preprocess(reviews):\n",
    "    tokenizer = RegexpTokenizer(r'\\w+')\n",
    "    review = str(reviews)\n",
    "    review = review.lower()\n",
    "    review = review.replace(\"<br /><br />\", \"\")\n",
    "    tokens = tokenizer.tokenize(review)\n",
    "\n",
    "    stop_words = set(stopwords.words('english'))\n",
    "    stopwords_removed = [i for i in tokens if i not in stop_words]\n",
    "\n",
    "    ps = PorterStemmer()\n",
    "    stem_text = [ps.stem(i) for i in stopwords_removed]\n",
    "\n",
    "    cleaned_reviews = \" \".join(stem_text)\n",
    "    \n",
    "    return cleaned_reviews"
   ]
  },
  {
   "cell_type": "code",
   "execution_count": 7,
   "id": "4b71e14e",
   "metadata": {
    "execution": {
     "iopub.execute_input": "2021-10-06T11:18:25.714011Z",
     "iopub.status.busy": "2021-10-06T11:18:25.713418Z",
     "iopub.status.idle": "2021-10-06T11:21:21.012083Z",
     "shell.execute_reply": "2021-10-06T11:21:21.011575Z",
     "shell.execute_reply.started": "2021-10-06T11:01:12.641419Z"
    },
    "papermill": {
     "duration": 175.3205,
     "end_time": "2021-10-06T11:21:21.012230",
     "exception": false,
     "start_time": "2021-10-06T11:18:25.691730",
     "status": "completed"
    },
    "tags": []
   },
   "outputs": [],
   "source": [
    "X_preprocessed = [preprocess(i) for i in dataset.review]\n",
    "\n",
    "le = LabelEncoder()\n",
    "\n",
    "y = le.fit_transform(dataset.sentiment)"
   ]
  },
  {
   "cell_type": "code",
   "execution_count": 8,
   "id": "a4eb88d8",
   "metadata": {
    "execution": {
     "iopub.execute_input": "2021-10-06T11:21:21.088007Z",
     "iopub.status.busy": "2021-10-06T11:21:21.083070Z",
     "iopub.status.idle": "2021-10-06T11:22:27.905011Z",
     "shell.execute_reply": "2021-10-06T11:22:27.904512Z",
     "shell.execute_reply.started": "2021-10-06T11:04:08.869499Z"
    },
    "papermill": {
     "duration": 66.873876,
     "end_time": "2021-10-06T11:22:27.905180",
     "exception": false,
     "start_time": "2021-10-06T11:21:21.031304",
     "status": "completed"
    },
    "tags": []
   },
   "outputs": [],
   "source": [
    "tfidf = TfidfVectorizer(max_features=5000, ngram_range=(1,3))\n",
    "X = tfidf.fit_transform(X_preprocessed).toarray()"
   ]
  },
  {
   "cell_type": "markdown",
   "id": "8f4890c0",
   "metadata": {
    "papermill": {
     "duration": 0.017381,
     "end_time": "2021-10-06T11:22:27.940716",
     "exception": false,
     "start_time": "2021-10-06T11:22:27.923335",
     "status": "completed"
    },
    "tags": []
   },
   "source": [
    "# Splitting the Data into Train and Test"
   ]
  },
  {
   "cell_type": "code",
   "execution_count": 9,
   "id": "99d55899",
   "metadata": {
    "execution": {
     "iopub.execute_input": "2021-10-06T11:22:27.983375Z",
     "iopub.status.busy": "2021-10-06T11:22:27.981681Z",
     "iopub.status.idle": "2021-10-06T11:22:28.563471Z",
     "shell.execute_reply": "2021-10-06T11:22:28.563021Z",
     "shell.execute_reply.started": "2021-10-06T11:05:17.033119Z"
    },
    "papermill": {
     "duration": 0.605072,
     "end_time": "2021-10-06T11:22:28.563591",
     "exception": false,
     "start_time": "2021-10-06T11:22:27.958519",
     "status": "completed"
    },
    "tags": []
   },
   "outputs": [
    {
     "name": "stdout",
     "output_type": "stream",
     "text": [
      "(40000, 5000) (40000,)\n",
      "(10000, 5000) (10000,)\n"
     ]
    }
   ],
   "source": [
    "X_train, X_test, y_train, y_test = train_test_split(X, y, test_size=0.20, random_state=10)\n",
    "print(X_train.shape, y_train.shape)\n",
    "print(X_test.shape, y_test.shape)"
   ]
  },
  {
   "cell_type": "markdown",
   "id": "5728d181",
   "metadata": {
    "papermill": {
     "duration": 0.017831,
     "end_time": "2021-10-06T11:22:28.599424",
     "exception": false,
     "start_time": "2021-10-06T11:22:28.581593",
     "status": "completed"
    },
    "tags": []
   },
   "source": [
    "# Creating Different Models"
   ]
  },
  {
   "cell_type": "code",
   "execution_count": 10,
   "id": "b05d0bb2",
   "metadata": {
    "execution": {
     "iopub.execute_input": "2021-10-06T11:22:28.639187Z",
     "iopub.status.busy": "2021-10-06T11:22:28.638525Z",
     "iopub.status.idle": "2021-10-06T11:22:28.641158Z",
     "shell.execute_reply": "2021-10-06T11:22:28.640726Z",
     "shell.execute_reply.started": "2021-10-06T11:05:17.635786Z"
    },
    "papermill": {
     "duration": 0.024002,
     "end_time": "2021-10-06T11:22:28.641256",
     "exception": false,
     "start_time": "2021-10-06T11:22:28.617254",
     "status": "completed"
    },
    "tags": []
   },
   "outputs": [],
   "source": [
    "# Creating NB models\n",
    "model1 = MultinomialNB()\n",
    "model2 = GaussianNB()\n",
    "model3 = BernoulliNB()"
   ]
  },
  {
   "cell_type": "code",
   "execution_count": 11,
   "id": "14455418",
   "metadata": {
    "execution": {
     "iopub.execute_input": "2021-10-06T11:22:28.681351Z",
     "iopub.status.busy": "2021-10-06T11:22:28.680509Z",
     "iopub.status.idle": "2021-10-06T11:22:33.956996Z",
     "shell.execute_reply": "2021-10-06T11:22:33.957920Z",
     "shell.execute_reply.started": "2021-10-06T11:05:17.641927Z"
    },
    "papermill": {
     "duration": 5.299221,
     "end_time": "2021-10-06T11:22:33.958181",
     "exception": false,
     "start_time": "2021-10-06T11:22:28.658960",
     "status": "completed"
    },
    "tags": []
   },
   "outputs": [
    {
     "data": {
      "text/plain": [
       "BernoulliNB()"
      ]
     },
     "execution_count": 11,
     "metadata": {},
     "output_type": "execute_result"
    }
   ],
   "source": [
    "model1.fit(X_train, y_train)\n",
    "model2.fit(X_train, y_train)\n",
    "model3.fit(X_train, y_train)"
   ]
  },
  {
   "cell_type": "code",
   "execution_count": 12,
   "id": "baf55484",
   "metadata": {
    "execution": {
     "iopub.execute_input": "2021-10-06T11:22:34.033173Z",
     "iopub.status.busy": "2021-10-06T11:22:34.027077Z",
     "iopub.status.idle": "2021-10-06T11:22:35.477301Z",
     "shell.execute_reply": "2021-10-06T11:22:35.476444Z",
     "shell.execute_reply.started": "2021-10-06T11:05:22.850011Z"
    },
    "papermill": {
     "duration": 1.486156,
     "end_time": "2021-10-06T11:22:35.477506",
     "exception": false,
     "start_time": "2021-10-06T11:22:33.991350",
     "status": "completed"
    },
    "tags": []
   },
   "outputs": [],
   "source": [
    "model1_acc = model1.score(X_test,y_test)\n",
    "model2_acc = model2.score(X_test,y_test)\n",
    "model3_acc = model3.score(X_test, y_test)"
   ]
  },
  {
   "cell_type": "code",
   "execution_count": 13,
   "id": "397b7caa",
   "metadata": {
    "execution": {
     "iopub.execute_input": "2021-10-06T11:22:35.556018Z",
     "iopub.status.busy": "2021-10-06T11:22:35.555169Z",
     "iopub.status.idle": "2021-10-06T11:22:42.132670Z",
     "shell.execute_reply": "2021-10-06T11:22:42.133448Z",
     "shell.execute_reply.started": "2021-10-06T11:05:24.227637Z"
    },
    "papermill": {
     "duration": 6.620898,
     "end_time": "2021-10-06T11:22:42.133708",
     "exception": false,
     "start_time": "2021-10-06T11:22:35.512810",
     "status": "completed"
    },
    "tags": []
   },
   "outputs": [
    {
     "name": "stdout",
     "output_type": "stream",
     "text": [
      "Model 1 Train score 0.864975\n",
      "Model 1 Test score 0.8559\n",
      "\n",
      "Model 2 Train score 0.844275\n",
      "Model 2 Test score 0.8234\n",
      "\n",
      "Model 3 Train score 0.8624\n",
      "Model 3 Test score 0.8546\n"
     ]
    }
   ],
   "source": [
    "print('Model 1 Train score', model1.score(X_train,y_train))\n",
    "print('Model 1 Test score', model1.score(X_test,y_test))\n",
    "print()\n",
    "print('Model 2 Train score', model2.score(X_train,y_train))\n",
    "print('Model 2 Test score', model2.score(X_test,y_test))\n",
    "print()\n",
    "print('Model 3 Train score', model3.score(X_train,y_train))\n",
    "print('Model 3 Test score', model3.score(X_test,y_test))"
   ]
  },
  {
   "cell_type": "code",
   "execution_count": 14,
   "id": "7d7447c4",
   "metadata": {
    "execution": {
     "iopub.execute_input": "2021-10-06T11:22:42.218192Z",
     "iopub.status.busy": "2021-10-06T11:22:42.217268Z",
     "iopub.status.idle": "2021-10-06T11:22:44.046286Z",
     "shell.execute_reply": "2021-10-06T11:22:44.045799Z",
     "shell.execute_reply.started": "2021-10-06T11:05:31.056994Z"
    },
    "papermill": {
     "duration": 1.87395,
     "end_time": "2021-10-06T11:22:44.046407",
     "exception": false,
     "start_time": "2021-10-06T11:22:42.172457",
     "status": "completed"
    },
    "tags": []
   },
   "outputs": [
    {
     "name": "stderr",
     "output_type": "stream",
     "text": [
      "2021-10-06 11:22:42.232301: I tensorflow/compiler/jit/xla_cpu_device.cc:41] Not creating XLA devices, tf_xla_enable_xla_devices not set\n",
      "2021-10-06 11:22:42.236621: I tensorflow/stream_executor/platform/default/dso_loader.cc:49] Successfully opened dynamic library libcuda.so.1\n",
      "2021-10-06 11:22:42.285591: I tensorflow/stream_executor/cuda/cuda_gpu_executor.cc:941] successful NUMA node read from SysFS had negative value (-1), but there must be at least one NUMA node, so returning NUMA node zero\n",
      "2021-10-06 11:22:42.286218: I tensorflow/core/common_runtime/gpu/gpu_device.cc:1720] Found device 0 with properties: \n",
      "pciBusID: 0000:00:04.0 name: Tesla P100-PCIE-16GB computeCapability: 6.0\n",
      "coreClock: 1.3285GHz coreCount: 56 deviceMemorySize: 15.90GiB deviceMemoryBandwidth: 681.88GiB/s\n",
      "2021-10-06 11:22:42.286273: I tensorflow/stream_executor/platform/default/dso_loader.cc:49] Successfully opened dynamic library libcudart.so.11.0\n",
      "2021-10-06 11:22:42.313947: I tensorflow/stream_executor/platform/default/dso_loader.cc:49] Successfully opened dynamic library libcublas.so.11\n",
      "2021-10-06 11:22:42.314061: I tensorflow/stream_executor/platform/default/dso_loader.cc:49] Successfully opened dynamic library libcublasLt.so.11\n",
      "2021-10-06 11:22:42.329749: I tensorflow/stream_executor/platform/default/dso_loader.cc:49] Successfully opened dynamic library libcufft.so.10\n",
      "2021-10-06 11:22:42.338145: I tensorflow/stream_executor/platform/default/dso_loader.cc:49] Successfully opened dynamic library libcurand.so.10\n",
      "2021-10-06 11:22:42.361251: I tensorflow/stream_executor/platform/default/dso_loader.cc:49] Successfully opened dynamic library libcusolver.so.10\n",
      "2021-10-06 11:22:42.368790: I tensorflow/stream_executor/platform/default/dso_loader.cc:49] Successfully opened dynamic library libcusparse.so.11\n",
      "2021-10-06 11:22:42.371220: I tensorflow/stream_executor/platform/default/dso_loader.cc:49] Successfully opened dynamic library libcudnn.so.8\n",
      "2021-10-06 11:22:42.371448: I tensorflow/stream_executor/cuda/cuda_gpu_executor.cc:941] successful NUMA node read from SysFS had negative value (-1), but there must be at least one NUMA node, so returning NUMA node zero\n",
      "2021-10-06 11:22:42.372210: I tensorflow/stream_executor/cuda/cuda_gpu_executor.cc:941] successful NUMA node read from SysFS had negative value (-1), but there must be at least one NUMA node, so returning NUMA node zero\n",
      "2021-10-06 11:22:42.373850: I tensorflow/core/common_runtime/gpu/gpu_device.cc:1862] Adding visible gpu devices: 0\n",
      "2021-10-06 11:22:42.375051: I tensorflow/core/platform/cpu_feature_guard.cc:142] This TensorFlow binary is optimized with oneAPI Deep Neural Network Library (oneDNN) to use the following CPU instructions in performance-critical operations:  AVX2 AVX512F FMA\n",
      "To enable them in other operations, rebuild TensorFlow with the appropriate compiler flags.\n",
      "2021-10-06 11:22:42.375250: I tensorflow/compiler/jit/xla_gpu_device.cc:99] Not creating XLA devices, tf_xla_enable_xla_devices not set\n",
      "2021-10-06 11:22:42.375420: I tensorflow/stream_executor/cuda/cuda_gpu_executor.cc:941] successful NUMA node read from SysFS had negative value (-1), but there must be at least one NUMA node, so returning NUMA node zero\n",
      "2021-10-06 11:22:42.375989: I tensorflow/core/common_runtime/gpu/gpu_device.cc:1720] Found device 0 with properties: \n",
      "pciBusID: 0000:00:04.0 name: Tesla P100-PCIE-16GB computeCapability: 6.0\n",
      "coreClock: 1.3285GHz coreCount: 56 deviceMemorySize: 15.90GiB deviceMemoryBandwidth: 681.88GiB/s\n",
      "2021-10-06 11:22:42.376025: I tensorflow/stream_executor/platform/default/dso_loader.cc:49] Successfully opened dynamic library libcudart.so.11.0\n",
      "2021-10-06 11:22:42.376080: I tensorflow/stream_executor/platform/default/dso_loader.cc:49] Successfully opened dynamic library libcublas.so.11\n",
      "2021-10-06 11:22:42.376102: I tensorflow/stream_executor/platform/default/dso_loader.cc:49] Successfully opened dynamic library libcublasLt.so.11\n",
      "2021-10-06 11:22:42.376119: I tensorflow/stream_executor/platform/default/dso_loader.cc:49] Successfully opened dynamic library libcufft.so.10\n",
      "2021-10-06 11:22:42.376136: I tensorflow/stream_executor/platform/default/dso_loader.cc:49] Successfully opened dynamic library libcurand.so.10\n",
      "2021-10-06 11:22:42.376153: I tensorflow/stream_executor/platform/default/dso_loader.cc:49] Successfully opened dynamic library libcusolver.so.10\n",
      "2021-10-06 11:22:42.376171: I tensorflow/stream_executor/platform/default/dso_loader.cc:49] Successfully opened dynamic library libcusparse.so.11\n",
      "2021-10-06 11:22:42.376189: I tensorflow/stream_executor/platform/default/dso_loader.cc:49] Successfully opened dynamic library libcudnn.so.8\n",
      "2021-10-06 11:22:42.376277: I tensorflow/stream_executor/cuda/cuda_gpu_executor.cc:941] successful NUMA node read from SysFS had negative value (-1), but there must be at least one NUMA node, so returning NUMA node zero\n",
      "2021-10-06 11:22:42.376915: I tensorflow/stream_executor/cuda/cuda_gpu_executor.cc:941] successful NUMA node read from SysFS had negative value (-1), but there must be at least one NUMA node, so returning NUMA node zero\n",
      "2021-10-06 11:22:42.377475: I tensorflow/core/common_runtime/gpu/gpu_device.cc:1862] Adding visible gpu devices: 0\n",
      "2021-10-06 11:22:42.378455: I tensorflow/stream_executor/platform/default/dso_loader.cc:49] Successfully opened dynamic library libcudart.so.11.0\n",
      "2021-10-06 11:22:43.694766: I tensorflow/core/common_runtime/gpu/gpu_device.cc:1261] Device interconnect StreamExecutor with strength 1 edge matrix:\n",
      "2021-10-06 11:22:43.694816: I tensorflow/core/common_runtime/gpu/gpu_device.cc:1267]      0 \n",
      "2021-10-06 11:22:43.694826: I tensorflow/core/common_runtime/gpu/gpu_device.cc:1280] 0:   N \n",
      "2021-10-06 11:22:43.696999: I tensorflow/stream_executor/cuda/cuda_gpu_executor.cc:941] successful NUMA node read from SysFS had negative value (-1), but there must be at least one NUMA node, so returning NUMA node zero\n",
      "2021-10-06 11:22:43.697749: I tensorflow/stream_executor/cuda/cuda_gpu_executor.cc:941] successful NUMA node read from SysFS had negative value (-1), but there must be at least one NUMA node, so returning NUMA node zero\n",
      "2021-10-06 11:22:43.698377: I tensorflow/stream_executor/cuda/cuda_gpu_executor.cc:941] successful NUMA node read from SysFS had negative value (-1), but there must be at least one NUMA node, so returning NUMA node zero\n",
      "2021-10-06 11:22:43.698923: I tensorflow/core/common_runtime/gpu/gpu_device.cc:1406] Created TensorFlow device (/job:localhost/replica:0/task:0/device:GPU:0 with 14957 MB memory) -> physical GPU (device: 0, name: Tesla P100-PCIE-16GB, pci bus id: 0000:00:04.0, compute capability: 6.0)\n"
     ]
    },
    {
     "name": "stdout",
     "output_type": "stream",
     "text": [
      "Model: \"sequential\"\n",
      "_________________________________________________________________\n",
      "Layer (type)                 Output Shape              Param #   \n",
      "=================================================================\n",
      "dense (Dense)                (None, 16)                80016     \n",
      "_________________________________________________________________\n",
      "dense_1 (Dense)              (None, 16)                272       \n",
      "_________________________________________________________________\n",
      "dropout (Dropout)            (None, 16)                0         \n",
      "_________________________________________________________________\n",
      "dense_2 (Dense)              (None, 1)                 17        \n",
      "=================================================================\n",
      "Total params: 80,305\n",
      "Trainable params: 80,305\n",
      "Non-trainable params: 0\n",
      "_________________________________________________________________\n"
     ]
    }
   ],
   "source": [
    "# Creating Neural Network Model\n",
    "model4 = Sequential()\n",
    "\n",
    "model4.add(Dense(16, activation='relu', input_shape=(5000,)))\n",
    "model4.add(Dense(16, activation='relu'))\n",
    "model4.add(Dropout(0.2))\n",
    "model4.add(Dense(1, activation='sigmoid'))\n",
    "\n",
    "model4.summary()"
   ]
  },
  {
   "cell_type": "code",
   "execution_count": 15,
   "id": "a46206c9",
   "metadata": {
    "execution": {
     "iopub.execute_input": "2021-10-06T11:22:44.096401Z",
     "iopub.status.busy": "2021-10-06T11:22:44.095282Z",
     "iopub.status.idle": "2021-10-06T11:22:44.101744Z",
     "shell.execute_reply": "2021-10-06T11:22:44.101348Z",
     "shell.execute_reply.started": "2021-10-06T11:05:32.903413Z"
    },
    "papermill": {
     "duration": 0.035388,
     "end_time": "2021-10-06T11:22:44.101848",
     "exception": false,
     "start_time": "2021-10-06T11:22:44.066460",
     "status": "completed"
    },
    "tags": []
   },
   "outputs": [],
   "source": [
    "model4.compile(optimizer='adam', loss='binary_crossentropy', metrics=['accuracy'])"
   ]
  },
  {
   "cell_type": "code",
   "execution_count": 16,
   "id": "1740bd3a",
   "metadata": {
    "execution": {
     "iopub.execute_input": "2021-10-06T11:22:44.145490Z",
     "iopub.status.busy": "2021-10-06T11:22:44.144893Z",
     "iopub.status.idle": "2021-10-06T11:22:48.859541Z",
     "shell.execute_reply": "2021-10-06T11:22:48.858980Z",
     "shell.execute_reply.started": "2021-10-06T11:05:32.919995Z"
    },
    "papermill": {
     "duration": 4.737921,
     "end_time": "2021-10-06T11:22:48.859672",
     "exception": false,
     "start_time": "2021-10-06T11:22:44.121751",
     "status": "completed"
    },
    "tags": []
   },
   "outputs": [
    {
     "name": "stderr",
     "output_type": "stream",
     "text": [
      "2021-10-06 11:22:44.442521: W tensorflow/core/framework/cpu_allocator_impl.cc:80] Allocation of 800000000 exceeds 10% of free system memory.\n",
      "2021-10-06 11:22:45.077944: I tensorflow/compiler/mlir/mlir_graph_optimization_pass.cc:116] None of the MLIR optimization passes are enabled (registered 2)\n",
      "2021-10-06 11:22:45.089396: I tensorflow/core/platform/profile_utils/cpu_utils.cc:112] CPU Frequency: 2000179999 Hz\n"
     ]
    },
    {
     "name": "stdout",
     "output_type": "stream",
     "text": [
      "Epoch 1/2\n"
     ]
    },
    {
     "name": "stderr",
     "output_type": "stream",
     "text": [
      "2021-10-06 11:22:45.712280: I tensorflow/stream_executor/platform/default/dso_loader.cc:49] Successfully opened dynamic library libcublas.so.11\n"
     ]
    },
    {
     "name": "stdout",
     "output_type": "stream",
     "text": [
      " 25/157 [===>..........................] - ETA: 0s - loss: 0.6887 - accuracy: 0.5920"
     ]
    },
    {
     "name": "stderr",
     "output_type": "stream",
     "text": [
      "2021-10-06 11:22:46.505454: I tensorflow/stream_executor/platform/default/dso_loader.cc:49] Successfully opened dynamic library libcublasLt.so.11\n"
     ]
    },
    {
     "name": "stdout",
     "output_type": "stream",
     "text": [
      "157/157 [==============================] - 3s 10ms/step - loss: 0.6108 - accuracy: 0.7477 - val_loss: 0.3171 - val_accuracy: 0.8870\n",
      "Epoch 2/2\n",
      "157/157 [==============================] - 1s 5ms/step - loss: 0.2833 - accuracy: 0.8957 - val_loss: 0.2664 - val_accuracy: 0.8914\n"
     ]
    }
   ],
   "source": [
    "hist = model4.fit(X_train, y_train, batch_size=256, validation_data=(X_test, y_test), epochs=2)"
   ]
  },
  {
   "cell_type": "code",
   "execution_count": 17,
   "id": "c2d50576",
   "metadata": {
    "execution": {
     "iopub.execute_input": "2021-10-06T11:22:48.919485Z",
     "iopub.status.busy": "2021-10-06T11:22:48.918800Z",
     "iopub.status.idle": "2021-10-06T11:22:49.736806Z",
     "shell.execute_reply": "2021-10-06T11:22:49.737499Z",
     "shell.execute_reply.started": "2021-10-06T11:05:37.864902Z"
    },
    "papermill": {
     "duration": 0.850158,
     "end_time": "2021-10-06T11:22:49.737648",
     "exception": false,
     "start_time": "2021-10-06T11:22:48.887490",
     "status": "completed"
    },
    "tags": []
   },
   "outputs": [
    {
     "name": "stdout",
     "output_type": "stream",
     "text": [
      "313/313 [==============================] - 1s 2ms/step - loss: 0.2664 - accuracy: 0.8914\n"
     ]
    }
   ],
   "source": [
    "model4_acc = model4.evaluate(X_test, y_test)[1]"
   ]
  },
  {
   "cell_type": "markdown",
   "id": "c37db8f5",
   "metadata": {
    "papermill": {
     "duration": 0.032539,
     "end_time": "2021-10-06T11:22:49.802167",
     "exception": false,
     "start_time": "2021-10-06T11:22:49.769628",
     "status": "completed"
    },
    "tags": []
   },
   "source": [
    "# Visualizing different Model Accuracy"
   ]
  },
  {
   "cell_type": "code",
   "execution_count": 18,
   "id": "e24f5f07",
   "metadata": {
    "execution": {
     "iopub.execute_input": "2021-10-06T11:22:49.894442Z",
     "iopub.status.busy": "2021-10-06T11:22:49.893619Z",
     "iopub.status.idle": "2021-10-06T11:22:50.053967Z",
     "shell.execute_reply": "2021-10-06T11:22:50.054454Z",
     "shell.execute_reply.started": "2021-10-06T11:07:09.521894Z"
    },
    "papermill": {
     "duration": 0.220344,
     "end_time": "2021-10-06T11:22:50.054599",
     "exception": false,
     "start_time": "2021-10-06T11:22:49.834255",
     "status": "completed"
    },
    "tags": []
   },
   "outputs": [
    {
     "data": {
      "image/png": "[encoded data removed]",
      "text/plain": [
       "<Figure size 1080x360 with 1 Axes>"
      ]
     },
     "metadata": {
      "needs_background": "light"
     },
     "output_type": "display_data"
    }
   ],
   "source": [
    "models = ['Model1', 'Model2', 'Model3', 'Model4']\n",
    "\n",
    "acc = [model1_acc, model2_acc, model3_acc, model4_acc]\n",
    "\n",
    "plt.figure(figsize=(15,5))\n",
    "plt.barh(models, acc)\n",
    "  \n",
    "for index, value in enumerate(acc):\n",
    "    plt.text(value, index,\n",
    "             str(\"%.2f\"%value))\n",
    "plt.title(\"Model Accuracy\")\n",
    "plt.show()"
   ]
  },
  {
   "cell_type": "markdown",
   "id": "7ed31004",
   "metadata": {
    "papermill": {
     "duration": 0.031306,
     "end_time": "2021-10-06T11:22:50.117803",
     "exception": false,
     "start_time": "2021-10-06T11:22:50.086497",
     "status": "completed"
    },
    "tags": []
   },
   "source": [
    "# Conclusion"
   ]
  },
  {
   "cell_type": "markdown",
   "id": "c0f3879e",
   "metadata": {
    "papermill": {
     "duration": 0.03105,
     "end_time": "2021-10-06T11:22:50.180590",
     "exception": false,
     "start_time": "2021-10-06T11:22:50.149540",
     "status": "completed"
    },
    "tags": []
   },
   "source": [
    "### We can conlcude from the above graph that Model 4 has the highest accuracy which is Neural Network Model\n",
    "### Followed by Model 1 that is MultinomialNB"
   ]
  }
 ],
 "metadata": {
  "kernelspec": {
   "display_name": "Python 3",
   "language": "python",
   "name": "python3"
  },
  "language_info": {
   "codemirror_mode": {
    "name": "ipython",
    "version": 3
   },
   "file_extension": ".py",
   "mimetype": "text/x-python",
   "name": "python",
   "nbconvert_exporter": "python",
   "pygments_lexer": "ipython3",
   "version": "3.7.10"
  },
  "papermill": {
   "default_parameters": {},
   "duration": 281.677383,
   "end_time": "2021-10-06T11:22:53.216766",
   "environment_variables": {},
   "exception": null,
   "input_path": "__notebook__.ipynb",
   "output_path": "__notebook__.ipynb",
   "parameters": {},
   "start_time": "2021-10-06T11:18:11.539383",
   "version": "2.3.3"
  }
 },
 "nbformat": 4,
 "nbformat_minor": 5
}
